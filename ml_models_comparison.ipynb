{
 "cells": [
  {
   "cell_type": "markdown",
   "metadata": {},
   "source": [
    "## Comparing Linear Regression with Other Models\n",
    "#### In this file, we are comparing the Linear Regression model with XGBRegressor and Support Vector Regression (SVR) models and evaluate the accuracy. "
   ]
  },
  {
   "cell_type": "code",
   "execution_count": 1,
   "metadata": {},
   "outputs": [],
   "source": [
    "import pandas as pd\n",
    "from pathlib import Path\n",
    "import matplotlib.pyplot as plt\n",
    "from sklearn.linear_model import LinearRegression\n",
    "from sklearn.preprocessing import StandardScaler,OneHotEncoder\n",
    "from sklearn.model_selection import train_test_split\n",
    "import numpy as np\n",
    "from sklearn.metrics import mean_squared_error,r2_score,mean_absolute_error"
   ]
  },
  {
   "cell_type": "code",
   "execution_count": 2,
   "metadata": {},
   "outputs": [
    {
     "data": {
      "text/html": [
       "<div>\n",
       "<style scoped>\n",
       "    .dataframe tbody tr th:only-of-type {\n",
       "        vertical-align: middle;\n",
       "    }\n",
       "\n",
       "    .dataframe tbody tr th {\n",
       "        vertical-align: top;\n",
       "    }\n",
       "\n",
       "    .dataframe thead th {\n",
       "        text-align: right;\n",
       "    }\n",
       "</style>\n",
       "<table border=\"1\" class=\"dataframe\">\n",
       "  <thead>\n",
       "    <tr style=\"text-align: right;\">\n",
       "      <th></th>\n",
       "      <th>#</th>\n",
       "      <th>LSC</th>\n",
       "      <th>EC</th>\n",
       "      <th>St#</th>\n",
       "      <th>Street Name</th>\n",
       "      <th>Abbr</th>\n",
       "      <th>Dir</th>\n",
       "      <th>Municipality</th>\n",
       "      <th>Community</th>\n",
       "      <th>List Price</th>\n",
       "      <th>...</th>\n",
       "      <th>Fam</th>\n",
       "      <th>Kit</th>\n",
       "      <th>Garage Type</th>\n",
       "      <th>A/C</th>\n",
       "      <th>Heat</th>\n",
       "      <th>Contract Date</th>\n",
       "      <th>Sold Date</th>\n",
       "      <th>List Brokerage</th>\n",
       "      <th>Co op Brokerage</th>\n",
       "      <th>MLS#</th>\n",
       "    </tr>\n",
       "  </thead>\n",
       "  <tbody>\n",
       "    <tr>\n",
       "      <th>0</th>\n",
       "      <td>1</td>\n",
       "      <td>Sld</td>\n",
       "      <td>None</td>\n",
       "      <td>38</td>\n",
       "      <td>Scarsdale</td>\n",
       "      <td>Crt</td>\n",
       "      <td>None</td>\n",
       "      <td>Brampton</td>\n",
       "      <td>Brampton W</td>\n",
       "      <td>$599,000</td>\n",
       "      <td>...</td>\n",
       "      <td>N</td>\n",
       "      <td>1</td>\n",
       "      <td>Built-</td>\n",
       "      <td>Cen</td>\n",
       "      <td>Gas</td>\n",
       "      <td>3/16/2021</td>\n",
       "      <td>3/23/2021</td>\n",
       "      <td>RE/MAX WEST</td>\n",
       "      <td>RE/MAX REALTY</td>\n",
       "      <td>W5153139</td>\n",
       "    </tr>\n",
       "    <tr>\n",
       "      <th>1</th>\n",
       "      <td>2</td>\n",
       "      <td>Sld</td>\n",
       "      <td>None</td>\n",
       "      <td>55</td>\n",
       "      <td>Corby</td>\n",
       "      <td>Cres</td>\n",
       "      <td>None</td>\n",
       "      <td>Brampton</td>\n",
       "      <td>Brampton W</td>\n",
       "      <td>$599,900</td>\n",
       "      <td>...</td>\n",
       "      <td>N</td>\n",
       "      <td>1</td>\n",
       "      <td>None</td>\n",
       "      <td>Cen</td>\n",
       "      <td>Oil</td>\n",
       "      <td>2/23/2021</td>\n",
       "      <td>2/26/2021</td>\n",
       "      <td>RE/MAX REAL</td>\n",
       "      <td>HOMELIFE/MIRA</td>\n",
       "      <td>W5125388</td>\n",
       "    </tr>\n",
       "    <tr>\n",
       "      <th>2</th>\n",
       "      <td>3</td>\n",
       "      <td>Sld</td>\n",
       "      <td>None</td>\n",
       "      <td>7</td>\n",
       "      <td>Manett</td>\n",
       "      <td>Cres</td>\n",
       "      <td>None</td>\n",
       "      <td>Brampton</td>\n",
       "      <td>Brampton W</td>\n",
       "      <td>$699,000</td>\n",
       "      <td>...</td>\n",
       "      <td>N</td>\n",
       "      <td>1</td>\n",
       "      <td>Attach</td>\n",
       "      <td>Cen</td>\n",
       "      <td>Gas</td>\n",
       "      <td>1/21/2021</td>\n",
       "      <td>1/26/2021</td>\n",
       "      <td>RE/MAX REAL</td>\n",
       "      <td>HOMELIFE/MIRA</td>\n",
       "      <td>W5091089</td>\n",
       "    </tr>\n",
       "    <tr>\n",
       "      <th>3</th>\n",
       "      <td>4</td>\n",
       "      <td>Sld</td>\n",
       "      <td>None</td>\n",
       "      <td>76</td>\n",
       "      <td>Fairglen</td>\n",
       "      <td>Ave</td>\n",
       "      <td>None</td>\n",
       "      <td>Brampton</td>\n",
       "      <td>Brampton W</td>\n",
       "      <td>$699,500</td>\n",
       "      <td>...</td>\n",
       "      <td>N</td>\n",
       "      <td>1</td>\n",
       "      <td>None</td>\n",
       "      <td>Cen</td>\n",
       "      <td>Gas</td>\n",
       "      <td>3/16/2021</td>\n",
       "      <td>3/17/2021</td>\n",
       "      <td>EXP REALTY,</td>\n",
       "      <td>ROYALSTARRE</td>\n",
       "      <td>W5153813</td>\n",
       "    </tr>\n",
       "    <tr>\n",
       "      <th>4</th>\n",
       "      <td>5</td>\n",
       "      <td>Sld</td>\n",
       "      <td>None</td>\n",
       "      <td>121</td>\n",
       "      <td>Richwood</td>\n",
       "      <td>Cres</td>\n",
       "      <td>None</td>\n",
       "      <td>Brampton</td>\n",
       "      <td>Brampton W</td>\n",
       "      <td>$699,900</td>\n",
       "      <td>...</td>\n",
       "      <td>N</td>\n",
       "      <td>1</td>\n",
       "      <td>Built-</td>\n",
       "      <td>Cen</td>\n",
       "      <td>Gas</td>\n",
       "      <td>2/21/2021</td>\n",
       "      <td>2/26/2021</td>\n",
       "      <td>RE/MAX REAL</td>\n",
       "      <td>ROYAL LEPAGE</td>\n",
       "      <td>W5123258</td>\n",
       "    </tr>\n",
       "  </tbody>\n",
       "</table>\n",
       "<p>5 rows × 26 columns</p>\n",
       "</div>"
      ],
      "text/plain": [
       "   #  LSC    EC  St# Street Name  Abbr   Dir Municipality   Community  \\\n",
       "0  1  Sld  None   38   Scarsdale   Crt  None     Brampton  Brampton W   \n",
       "1  2  Sld  None   55       Corby  Cres  None     Brampton  Brampton W   \n",
       "2  3  Sld  None    7      Manett  Cres  None     Brampton  Brampton W   \n",
       "3  4  Sld  None   76    Fairglen   Ave  None     Brampton  Brampton W   \n",
       "4  5  Sld  None  121    Richwood  Cres  None     Brampton  Brampton W   \n",
       "\n",
       "  List Price  ... Fam Kit Garage Type  A/C  Heat  Contract Date  Sold Date  \\\n",
       "0   $599,000  ...   N   1      Built-  Cen   Gas      3/16/2021  3/23/2021   \n",
       "1   $599,900  ...   N   1        None  Cen   Oil      2/23/2021  2/26/2021   \n",
       "2   $699,000  ...   N   1      Attach  Cen   Gas      1/21/2021  1/26/2021   \n",
       "3   $699,500  ...   N   1        None  Cen   Gas      3/16/2021  3/17/2021   \n",
       "4   $699,900  ...   N   1      Built-  Cen   Gas      2/21/2021  2/26/2021   \n",
       "\n",
       "   List Brokerage Co op Brokerage      MLS#  \n",
       "0     RE/MAX WEST   RE/MAX REALTY  W5153139  \n",
       "1     RE/MAX REAL   HOMELIFE/MIRA  W5125388  \n",
       "2     RE/MAX REAL   HOMELIFE/MIRA  W5091089  \n",
       "3     EXP REALTY,     ROYALSTARRE  W5153813  \n",
       "4     RE/MAX REAL    ROYAL LEPAGE  W5123258  \n",
       "\n",
       "[5 rows x 26 columns]"
      ]
     },
     "execution_count": 2,
     "metadata": {},
     "output_type": "execute_result"
    }
   ],
   "source": [
    "# Importing the data from SQLite database into a DataFrame\n",
    "house_df = pd.read_sql_table('sold_homes', 'sqlite:///sold_homes.db').drop(columns=['index'])\n",
    "house_df.head()"
   ]
  },
  {
   "cell_type": "code",
   "execution_count": 3,
   "metadata": {},
   "outputs": [
    {
     "data": {
      "text/plain": [
       "#                   int64\n",
       "LSC                object\n",
       "EC                 object\n",
       "St#                object\n",
       "Street Name        object\n",
       "Abbr               object\n",
       "Dir                object\n",
       "Municipality       object\n",
       "Community          object\n",
       "List Price         object\n",
       "Sold Price         object\n",
       "Type               object\n",
       "Style              object\n",
       "Br                  int64\n",
       "Additional          int64\n",
       "Wr                  int64\n",
       "Fam                object\n",
       "Kit                 int64\n",
       "Garage Type        object\n",
       "A/C                object\n",
       "Heat               object\n",
       "Contract Date      object\n",
       "Sold Date          object\n",
       "List Brokerage     object\n",
       "Co op Brokerage    object\n",
       "MLS#               object\n",
       "dtype: object"
      ]
     },
     "execution_count": 3,
     "metadata": {},
     "output_type": "execute_result"
    }
   ],
   "source": [
    "# Checking date types of columns\n",
    "house_df.dtypes"
   ]
  },
  {
   "cell_type": "markdown",
   "metadata": {},
   "source": [
    "### Data Preprocessing and Preliminary Features Selection"
   ]
  },
  {
   "cell_type": "code",
   "execution_count": 4,
   "metadata": {},
   "outputs": [
    {
     "data": {
      "text/html": [
       "<div>\n",
       "<style scoped>\n",
       "    .dataframe tbody tr th:only-of-type {\n",
       "        vertical-align: middle;\n",
       "    }\n",
       "\n",
       "    .dataframe tbody tr th {\n",
       "        vertical-align: top;\n",
       "    }\n",
       "\n",
       "    .dataframe thead th {\n",
       "        text-align: right;\n",
       "    }\n",
       "</style>\n",
       "<table border=\"1\" class=\"dataframe\">\n",
       "  <thead>\n",
       "    <tr style=\"text-align: right;\">\n",
       "      <th></th>\n",
       "      <th>List Price</th>\n",
       "      <th>Sold Price</th>\n",
       "      <th>Type</th>\n",
       "      <th>Style</th>\n",
       "      <th>Br</th>\n",
       "      <th>Additional</th>\n",
       "      <th>Wr</th>\n",
       "      <th>Fam</th>\n",
       "      <th>Kit</th>\n",
       "      <th>Garage Type</th>\n",
       "      <th>Contract Date</th>\n",
       "      <th>Sold Date</th>\n",
       "    </tr>\n",
       "  </thead>\n",
       "  <tbody>\n",
       "    <tr>\n",
       "      <th>0</th>\n",
       "      <td>$599,000</td>\n",
       "      <td>$681,000</td>\n",
       "      <td>Att/Row/Tw</td>\n",
       "      <td>2-Storey</td>\n",
       "      <td>3</td>\n",
       "      <td>0</td>\n",
       "      <td>2</td>\n",
       "      <td>N</td>\n",
       "      <td>1</td>\n",
       "      <td>Built-</td>\n",
       "      <td>3/16/2021</td>\n",
       "      <td>3/23/2021</td>\n",
       "    </tr>\n",
       "    <tr>\n",
       "      <th>1</th>\n",
       "      <td>$599,900</td>\n",
       "      <td>$767,000</td>\n",
       "      <td>Semi-Detac</td>\n",
       "      <td>Bungalow</td>\n",
       "      <td>3</td>\n",
       "      <td>1</td>\n",
       "      <td>2</td>\n",
       "      <td>N</td>\n",
       "      <td>1</td>\n",
       "      <td>None</td>\n",
       "      <td>2/23/2021</td>\n",
       "      <td>2/26/2021</td>\n",
       "    </tr>\n",
       "    <tr>\n",
       "      <th>2</th>\n",
       "      <td>$699,000</td>\n",
       "      <td>$818,500</td>\n",
       "      <td>Att/Row/Tw</td>\n",
       "      <td>2-Storey</td>\n",
       "      <td>3</td>\n",
       "      <td>1</td>\n",
       "      <td>3</td>\n",
       "      <td>N</td>\n",
       "      <td>1</td>\n",
       "      <td>Attach</td>\n",
       "      <td>1/21/2021</td>\n",
       "      <td>1/26/2021</td>\n",
       "    </tr>\n",
       "    <tr>\n",
       "      <th>3</th>\n",
       "      <td>$699,500</td>\n",
       "      <td>$726,000</td>\n",
       "      <td>Semi-Detac</td>\n",
       "      <td>Bungalow</td>\n",
       "      <td>2</td>\n",
       "      <td>1</td>\n",
       "      <td>2</td>\n",
       "      <td>N</td>\n",
       "      <td>1</td>\n",
       "      <td>None</td>\n",
       "      <td>3/16/2021</td>\n",
       "      <td>3/17/2021</td>\n",
       "    </tr>\n",
       "    <tr>\n",
       "      <th>4</th>\n",
       "      <td>$699,900</td>\n",
       "      <td>$731,000</td>\n",
       "      <td>Att/Row/Tw</td>\n",
       "      <td>2-Storey</td>\n",
       "      <td>3</td>\n",
       "      <td>0</td>\n",
       "      <td>3</td>\n",
       "      <td>N</td>\n",
       "      <td>1</td>\n",
       "      <td>Built-</td>\n",
       "      <td>2/21/2021</td>\n",
       "      <td>2/26/2021</td>\n",
       "    </tr>\n",
       "  </tbody>\n",
       "</table>\n",
       "</div>"
      ],
      "text/plain": [
       "  List Price Sold Price        Type     Style  Br  Additional  Wr Fam  Kit  \\\n",
       "0   $599,000   $681,000  Att/Row/Tw  2-Storey   3           0   2   N    1   \n",
       "1   $599,900   $767,000  Semi-Detac  Bungalow   3           1   2   N    1   \n",
       "2   $699,000   $818,500  Att/Row/Tw  2-Storey   3           1   3   N    1   \n",
       "3   $699,500   $726,000  Semi-Detac  Bungalow   2           1   2   N    1   \n",
       "4   $699,900   $731,000  Att/Row/Tw  2-Storey   3           0   3   N    1   \n",
       "\n",
       "  Garage Type Contract Date  Sold Date  \n",
       "0      Built-     3/16/2021  3/23/2021  \n",
       "1        None     2/23/2021  2/26/2021  \n",
       "2      Attach     1/21/2021  1/26/2021  \n",
       "3        None     3/16/2021  3/17/2021  \n",
       "4      Built-     2/21/2021  2/26/2021  "
      ]
     },
     "execution_count": 4,
     "metadata": {},
     "output_type": "execute_result"
    }
   ],
   "source": [
    "# Drop the non-beneficial columns\n",
    "house_df = house_df.drop([\"#\",\"LSC\",\"EC\",\"St#\",\"Dir\",\"Municipality\",\"Community\",\"MLS#\",\"Abbr\",\"List Brokerage\",\"Co op Brokerage\",\"Street Name\",\"Heat\",\"A/C\"],1)\n",
    "house_df.head()"
   ]
  },
  {
   "cell_type": "code",
   "execution_count": 5,
   "metadata": {},
   "outputs": [
    {
     "data": {
      "text/html": [
       "<div>\n",
       "<style scoped>\n",
       "    .dataframe tbody tr th:only-of-type {\n",
       "        vertical-align: middle;\n",
       "    }\n",
       "\n",
       "    .dataframe tbody tr th {\n",
       "        vertical-align: top;\n",
       "    }\n",
       "\n",
       "    .dataframe thead th {\n",
       "        text-align: right;\n",
       "    }\n",
       "</style>\n",
       "<table border=\"1\" class=\"dataframe\">\n",
       "  <thead>\n",
       "    <tr style=\"text-align: right;\">\n",
       "      <th></th>\n",
       "      <th>List Price</th>\n",
       "      <th>Sold Price</th>\n",
       "      <th>Type</th>\n",
       "      <th>Style</th>\n",
       "      <th>Br</th>\n",
       "      <th>Additional</th>\n",
       "      <th>Wr</th>\n",
       "      <th>Fam</th>\n",
       "      <th>Kit</th>\n",
       "      <th>Garage Type</th>\n",
       "      <th>Contract Date</th>\n",
       "      <th>Sold Date</th>\n",
       "    </tr>\n",
       "  </thead>\n",
       "  <tbody>\n",
       "    <tr>\n",
       "      <th>0</th>\n",
       "      <td>599000</td>\n",
       "      <td>681000</td>\n",
       "      <td>Att/Row/Tw</td>\n",
       "      <td>2-Storey</td>\n",
       "      <td>3</td>\n",
       "      <td>0</td>\n",
       "      <td>2</td>\n",
       "      <td>N</td>\n",
       "      <td>1</td>\n",
       "      <td>Built-</td>\n",
       "      <td>3/16/2021</td>\n",
       "      <td>3/23/2021</td>\n",
       "    </tr>\n",
       "    <tr>\n",
       "      <th>1</th>\n",
       "      <td>599900</td>\n",
       "      <td>767000</td>\n",
       "      <td>Semi-Detac</td>\n",
       "      <td>Bungalow</td>\n",
       "      <td>3</td>\n",
       "      <td>1</td>\n",
       "      <td>2</td>\n",
       "      <td>N</td>\n",
       "      <td>1</td>\n",
       "      <td>None</td>\n",
       "      <td>2/23/2021</td>\n",
       "      <td>2/26/2021</td>\n",
       "    </tr>\n",
       "    <tr>\n",
       "      <th>2</th>\n",
       "      <td>699000</td>\n",
       "      <td>818500</td>\n",
       "      <td>Att/Row/Tw</td>\n",
       "      <td>2-Storey</td>\n",
       "      <td>3</td>\n",
       "      <td>1</td>\n",
       "      <td>3</td>\n",
       "      <td>N</td>\n",
       "      <td>1</td>\n",
       "      <td>Attach</td>\n",
       "      <td>1/21/2021</td>\n",
       "      <td>1/26/2021</td>\n",
       "    </tr>\n",
       "    <tr>\n",
       "      <th>3</th>\n",
       "      <td>699500</td>\n",
       "      <td>726000</td>\n",
       "      <td>Semi-Detac</td>\n",
       "      <td>Bungalow</td>\n",
       "      <td>2</td>\n",
       "      <td>1</td>\n",
       "      <td>2</td>\n",
       "      <td>N</td>\n",
       "      <td>1</td>\n",
       "      <td>None</td>\n",
       "      <td>3/16/2021</td>\n",
       "      <td>3/17/2021</td>\n",
       "    </tr>\n",
       "    <tr>\n",
       "      <th>4</th>\n",
       "      <td>699900</td>\n",
       "      <td>731000</td>\n",
       "      <td>Att/Row/Tw</td>\n",
       "      <td>2-Storey</td>\n",
       "      <td>3</td>\n",
       "      <td>0</td>\n",
       "      <td>3</td>\n",
       "      <td>N</td>\n",
       "      <td>1</td>\n",
       "      <td>Built-</td>\n",
       "      <td>2/21/2021</td>\n",
       "      <td>2/26/2021</td>\n",
       "    </tr>\n",
       "  </tbody>\n",
       "</table>\n",
       "</div>"
      ],
      "text/plain": [
       "   List Price  Sold Price        Type     Style  Br  Additional  Wr Fam  Kit  \\\n",
       "0      599000      681000  Att/Row/Tw  2-Storey   3           0   2   N    1   \n",
       "1      599900      767000  Semi-Detac  Bungalow   3           1   2   N    1   \n",
       "2      699000      818500  Att/Row/Tw  2-Storey   3           1   3   N    1   \n",
       "3      699500      726000  Semi-Detac  Bungalow   2           1   2   N    1   \n",
       "4      699900      731000  Att/Row/Tw  2-Storey   3           0   3   N    1   \n",
       "\n",
       "  Garage Type Contract Date  Sold Date  \n",
       "0      Built-     3/16/2021  3/23/2021  \n",
       "1        None     2/23/2021  2/26/2021  \n",
       "2      Attach     1/21/2021  1/26/2021  \n",
       "3        None     3/16/2021  3/17/2021  \n",
       "4      Built-     2/21/2021  2/26/2021  "
      ]
     },
     "execution_count": 5,
     "metadata": {},
     "output_type": "execute_result"
    }
   ],
   "source": [
    "# Converting \"List Price\" and \"Sold Price\" to integer type\n",
    "house_df[\"List Price\"] = house_df[\"List Price\"].replace('[\\$,]', '', regex=True).astype(int)\n",
    "house_df[\"Sold Price\"] = house_df[\"Sold Price\"].replace('[\\$,]', '', regex=True).astype(int)\n",
    "house_df.head()"
   ]
  },
  {
   "cell_type": "code",
   "execution_count": 6,
   "metadata": {},
   "outputs": [
    {
     "data": {
      "text/html": [
       "<div>\n",
       "<style scoped>\n",
       "    .dataframe tbody tr th:only-of-type {\n",
       "        vertical-align: middle;\n",
       "    }\n",
       "\n",
       "    .dataframe tbody tr th {\n",
       "        vertical-align: top;\n",
       "    }\n",
       "\n",
       "    .dataframe thead th {\n",
       "        text-align: right;\n",
       "    }\n",
       "</style>\n",
       "<table border=\"1\" class=\"dataframe\">\n",
       "  <thead>\n",
       "    <tr style=\"text-align: right;\">\n",
       "      <th></th>\n",
       "      <th>List Price</th>\n",
       "      <th>Sold Price</th>\n",
       "      <th>Type</th>\n",
       "      <th>Style</th>\n",
       "      <th>Br</th>\n",
       "      <th>Additional</th>\n",
       "      <th>Wr</th>\n",
       "      <th>Fam</th>\n",
       "      <th>Kit</th>\n",
       "      <th>Garage Type</th>\n",
       "      <th>Contract Date</th>\n",
       "      <th>Sold Date</th>\n",
       "    </tr>\n",
       "  </thead>\n",
       "  <tbody>\n",
       "    <tr>\n",
       "      <th>0</th>\n",
       "      <td>599000</td>\n",
       "      <td>681000</td>\n",
       "      <td>Att/Row/Tw</td>\n",
       "      <td>2-Storey</td>\n",
       "      <td>3</td>\n",
       "      <td>0</td>\n",
       "      <td>2</td>\n",
       "      <td>N</td>\n",
       "      <td>1</td>\n",
       "      <td>Built-</td>\n",
       "      <td>3162021</td>\n",
       "      <td>3232021</td>\n",
       "    </tr>\n",
       "    <tr>\n",
       "      <th>1</th>\n",
       "      <td>599900</td>\n",
       "      <td>767000</td>\n",
       "      <td>Semi-Detac</td>\n",
       "      <td>Bungalow</td>\n",
       "      <td>3</td>\n",
       "      <td>1</td>\n",
       "      <td>2</td>\n",
       "      <td>N</td>\n",
       "      <td>1</td>\n",
       "      <td>None</td>\n",
       "      <td>2232021</td>\n",
       "      <td>2262021</td>\n",
       "    </tr>\n",
       "    <tr>\n",
       "      <th>2</th>\n",
       "      <td>699000</td>\n",
       "      <td>818500</td>\n",
       "      <td>Att/Row/Tw</td>\n",
       "      <td>2-Storey</td>\n",
       "      <td>3</td>\n",
       "      <td>1</td>\n",
       "      <td>3</td>\n",
       "      <td>N</td>\n",
       "      <td>1</td>\n",
       "      <td>Attach</td>\n",
       "      <td>1212021</td>\n",
       "      <td>1262021</td>\n",
       "    </tr>\n",
       "    <tr>\n",
       "      <th>3</th>\n",
       "      <td>699500</td>\n",
       "      <td>726000</td>\n",
       "      <td>Semi-Detac</td>\n",
       "      <td>Bungalow</td>\n",
       "      <td>2</td>\n",
       "      <td>1</td>\n",
       "      <td>2</td>\n",
       "      <td>N</td>\n",
       "      <td>1</td>\n",
       "      <td>None</td>\n",
       "      <td>3162021</td>\n",
       "      <td>3172021</td>\n",
       "    </tr>\n",
       "    <tr>\n",
       "      <th>4</th>\n",
       "      <td>699900</td>\n",
       "      <td>731000</td>\n",
       "      <td>Att/Row/Tw</td>\n",
       "      <td>2-Storey</td>\n",
       "      <td>3</td>\n",
       "      <td>0</td>\n",
       "      <td>3</td>\n",
       "      <td>N</td>\n",
       "      <td>1</td>\n",
       "      <td>Built-</td>\n",
       "      <td>2212021</td>\n",
       "      <td>2262021</td>\n",
       "    </tr>\n",
       "  </tbody>\n",
       "</table>\n",
       "</div>"
      ],
      "text/plain": [
       "   List Price  Sold Price        Type     Style  Br  Additional  Wr Fam  Kit  \\\n",
       "0      599000      681000  Att/Row/Tw  2-Storey   3           0   2   N    1   \n",
       "1      599900      767000  Semi-Detac  Bungalow   3           1   2   N    1   \n",
       "2      699000      818500  Att/Row/Tw  2-Storey   3           1   3   N    1   \n",
       "3      699500      726000  Semi-Detac  Bungalow   2           1   2   N    1   \n",
       "4      699900      731000  Att/Row/Tw  2-Storey   3           0   3   N    1   \n",
       "\n",
       "  Garage Type  Contract Date  Sold Date  \n",
       "0      Built-        3162021    3232021  \n",
       "1        None        2232021    2262021  \n",
       "2      Attach        1212021    1262021  \n",
       "3        None        3162021    3172021  \n",
       "4      Built-        2212021    2262021  "
      ]
     },
     "execution_count": 6,
     "metadata": {},
     "output_type": "execute_result"
    }
   ],
   "source": [
    "# Converting the 'Contract Date' and 'Sold Date' to interger type\n",
    "house_df['Contract Date'] = house_df['Contract Date'].replace('[\\/]', '', regex=True).astype(int) \n",
    "house_df['Sold Date'] = house_df['Sold Date'].replace('[\\/]', '', regex=True).astype(int)\n",
    "house_df.head()"
   ]
  },
  {
   "cell_type": "code",
   "execution_count": 7,
   "metadata": {},
   "outputs": [
    {
     "data": {
      "text/plain": [
       "List Price        int32\n",
       "Sold Price        int32\n",
       "Type             object\n",
       "Style            object\n",
       "Br                int64\n",
       "Additional        int64\n",
       "Wr                int64\n",
       "Fam              object\n",
       "Kit               int64\n",
       "Garage Type      object\n",
       "Contract Date     int32\n",
       "Sold Date         int32\n",
       "dtype: object"
      ]
     },
     "execution_count": 7,
     "metadata": {},
     "output_type": "execute_result"
    }
   ],
   "source": [
    "house_df.dtypes"
   ]
  },
  {
   "cell_type": "code",
   "execution_count": 8,
   "metadata": {},
   "outputs": [
    {
     "data": {
      "text/plain": [
       "Type            5\n",
       "Style          10\n",
       "Fam             2\n",
       "Garage Type     6\n",
       "dtype: int64"
      ]
     },
     "execution_count": 8,
     "metadata": {},
     "output_type": "execute_result"
    }
   ],
   "source": [
    "# Determine the number of unique values in each column\n",
    "# Since the values are less than 10, no bucketing is required\n",
    "house_cat = house_df.dtypes[house_df.dtypes == \"object\"].index.tolist()\n",
    "house_df[house_cat].nunique()"
   ]
  },
  {
   "cell_type": "code",
   "execution_count": 9,
   "metadata": {},
   "outputs": [
    {
     "data": {
      "text/plain": [
       "2-Storey      847\n",
       "Bungalow      100\n",
       "Backsplit      88\n",
       "3-Storey       58\n",
       "Bungalow-R     52\n",
       "Sidesplit      34\n",
       "1 1/2 Stor      5\n",
       "Other           3\n",
       "Bungaloft       3\n",
       "2 1/2 Stor      3\n",
       "Name: Style, dtype: int64"
      ]
     },
     "execution_count": 9,
     "metadata": {},
     "output_type": "execute_result"
    }
   ],
   "source": [
    "# Look at \"Style\"value counts for binning\n",
    "style_counts = house_df[\"Style\"].value_counts()\n",
    "style_counts"
   ]
  },
  {
   "cell_type": "code",
   "execution_count": 10,
   "metadata": {},
   "outputs": [
    {
     "data": {
      "text/plain": [
       "2-Storey      847\n",
       "Bungalow      100\n",
       "Backsplit      88\n",
       "3-Storey       58\n",
       "Bungalow-R     52\n",
       "Sidesplit      34\n",
       "Other          14\n",
       "Name: Style, dtype: int64"
      ]
     },
     "execution_count": 10,
     "metadata": {},
     "output_type": "execute_result"
    }
   ],
   "source": [
    "# Determine which values to replace if counts are less than ...?\n",
    "replace_style = list(style_counts[style_counts < 30].index)\n",
    "\n",
    "# Replace in dataframe\n",
    "for app in replace_style:\n",
    "    house_df.Style = house_df.Style.replace(app,\"Other\")\n",
    "    \n",
    "# Check to make sure binning was successful\n",
    "house_df.Style.value_counts()"
   ]
  },
  {
   "cell_type": "code",
   "execution_count": 11,
   "metadata": {},
   "outputs": [
    {
     "data": {
      "text/html": [
       "<div>\n",
       "<style scoped>\n",
       "    .dataframe tbody tr th:only-of-type {\n",
       "        vertical-align: middle;\n",
       "    }\n",
       "\n",
       "    .dataframe tbody tr th {\n",
       "        vertical-align: top;\n",
       "    }\n",
       "\n",
       "    .dataframe thead th {\n",
       "        text-align: right;\n",
       "    }\n",
       "</style>\n",
       "<table border=\"1\" class=\"dataframe\">\n",
       "  <thead>\n",
       "    <tr style=\"text-align: right;\">\n",
       "      <th></th>\n",
       "      <th>Type_Att/Row/Tw</th>\n",
       "      <th>Type_Detached</th>\n",
       "      <th>Type_Link</th>\n",
       "      <th>Type_Semi-Detac</th>\n",
       "      <th>Type_Vacant Lan</th>\n",
       "      <th>Style_2-Storey</th>\n",
       "      <th>Style_3-Storey</th>\n",
       "      <th>Style_Backsplit</th>\n",
       "      <th>Style_Bungalow</th>\n",
       "      <th>Style_Bungalow-R</th>\n",
       "      <th>Style_Other</th>\n",
       "      <th>Style_Sidesplit</th>\n",
       "      <th>Fam_N</th>\n",
       "      <th>Fam_Y</th>\n",
       "      <th>Garage Type_Attach</th>\n",
       "      <th>Garage Type_Built-</th>\n",
       "      <th>Garage Type_Carpor</th>\n",
       "      <th>Garage Type_Detach</th>\n",
       "      <th>Garage Type_None</th>\n",
       "      <th>Garage Type_Other</th>\n",
       "    </tr>\n",
       "  </thead>\n",
       "  <tbody>\n",
       "    <tr>\n",
       "      <th>0</th>\n",
       "      <td>1.0</td>\n",
       "      <td>0.0</td>\n",
       "      <td>0.0</td>\n",
       "      <td>0.0</td>\n",
       "      <td>0.0</td>\n",
       "      <td>1.0</td>\n",
       "      <td>0.0</td>\n",
       "      <td>0.0</td>\n",
       "      <td>0.0</td>\n",
       "      <td>0.0</td>\n",
       "      <td>0.0</td>\n",
       "      <td>0.0</td>\n",
       "      <td>1.0</td>\n",
       "      <td>0.0</td>\n",
       "      <td>0.0</td>\n",
       "      <td>1.0</td>\n",
       "      <td>0.0</td>\n",
       "      <td>0.0</td>\n",
       "      <td>0.0</td>\n",
       "      <td>0.0</td>\n",
       "    </tr>\n",
       "    <tr>\n",
       "      <th>1</th>\n",
       "      <td>0.0</td>\n",
       "      <td>0.0</td>\n",
       "      <td>0.0</td>\n",
       "      <td>1.0</td>\n",
       "      <td>0.0</td>\n",
       "      <td>0.0</td>\n",
       "      <td>0.0</td>\n",
       "      <td>0.0</td>\n",
       "      <td>1.0</td>\n",
       "      <td>0.0</td>\n",
       "      <td>0.0</td>\n",
       "      <td>0.0</td>\n",
       "      <td>1.0</td>\n",
       "      <td>0.0</td>\n",
       "      <td>0.0</td>\n",
       "      <td>0.0</td>\n",
       "      <td>0.0</td>\n",
       "      <td>0.0</td>\n",
       "      <td>1.0</td>\n",
       "      <td>0.0</td>\n",
       "    </tr>\n",
       "    <tr>\n",
       "      <th>2</th>\n",
       "      <td>1.0</td>\n",
       "      <td>0.0</td>\n",
       "      <td>0.0</td>\n",
       "      <td>0.0</td>\n",
       "      <td>0.0</td>\n",
       "      <td>1.0</td>\n",
       "      <td>0.0</td>\n",
       "      <td>0.0</td>\n",
       "      <td>0.0</td>\n",
       "      <td>0.0</td>\n",
       "      <td>0.0</td>\n",
       "      <td>0.0</td>\n",
       "      <td>1.0</td>\n",
       "      <td>0.0</td>\n",
       "      <td>1.0</td>\n",
       "      <td>0.0</td>\n",
       "      <td>0.0</td>\n",
       "      <td>0.0</td>\n",
       "      <td>0.0</td>\n",
       "      <td>0.0</td>\n",
       "    </tr>\n",
       "    <tr>\n",
       "      <th>3</th>\n",
       "      <td>0.0</td>\n",
       "      <td>0.0</td>\n",
       "      <td>0.0</td>\n",
       "      <td>1.0</td>\n",
       "      <td>0.0</td>\n",
       "      <td>0.0</td>\n",
       "      <td>0.0</td>\n",
       "      <td>0.0</td>\n",
       "      <td>1.0</td>\n",
       "      <td>0.0</td>\n",
       "      <td>0.0</td>\n",
       "      <td>0.0</td>\n",
       "      <td>1.0</td>\n",
       "      <td>0.0</td>\n",
       "      <td>0.0</td>\n",
       "      <td>0.0</td>\n",
       "      <td>0.0</td>\n",
       "      <td>0.0</td>\n",
       "      <td>1.0</td>\n",
       "      <td>0.0</td>\n",
       "    </tr>\n",
       "    <tr>\n",
       "      <th>4</th>\n",
       "      <td>1.0</td>\n",
       "      <td>0.0</td>\n",
       "      <td>0.0</td>\n",
       "      <td>0.0</td>\n",
       "      <td>0.0</td>\n",
       "      <td>1.0</td>\n",
       "      <td>0.0</td>\n",
       "      <td>0.0</td>\n",
       "      <td>0.0</td>\n",
       "      <td>0.0</td>\n",
       "      <td>0.0</td>\n",
       "      <td>0.0</td>\n",
       "      <td>1.0</td>\n",
       "      <td>0.0</td>\n",
       "      <td>0.0</td>\n",
       "      <td>1.0</td>\n",
       "      <td>0.0</td>\n",
       "      <td>0.0</td>\n",
       "      <td>0.0</td>\n",
       "      <td>0.0</td>\n",
       "    </tr>\n",
       "  </tbody>\n",
       "</table>\n",
       "</div>"
      ],
      "text/plain": [
       "   Type_Att/Row/Tw  Type_Detached  Type_Link  Type_Semi-Detac  \\\n",
       "0              1.0            0.0        0.0              0.0   \n",
       "1              0.0            0.0        0.0              1.0   \n",
       "2              1.0            0.0        0.0              0.0   \n",
       "3              0.0            0.0        0.0              1.0   \n",
       "4              1.0            0.0        0.0              0.0   \n",
       "\n",
       "   Type_Vacant Lan  Style_2-Storey  Style_3-Storey  Style_Backsplit  \\\n",
       "0              0.0             1.0             0.0              0.0   \n",
       "1              0.0             0.0             0.0              0.0   \n",
       "2              0.0             1.0             0.0              0.0   \n",
       "3              0.0             0.0             0.0              0.0   \n",
       "4              0.0             1.0             0.0              0.0   \n",
       "\n",
       "   Style_Bungalow  Style_Bungalow-R  Style_Other  Style_Sidesplit  Fam_N  \\\n",
       "0             0.0               0.0          0.0              0.0    1.0   \n",
       "1             1.0               0.0          0.0              0.0    1.0   \n",
       "2             0.0               0.0          0.0              0.0    1.0   \n",
       "3             1.0               0.0          0.0              0.0    1.0   \n",
       "4             0.0               0.0          0.0              0.0    1.0   \n",
       "\n",
       "   Fam_Y  Garage Type_Attach  Garage Type_Built-  Garage Type_Carpor  \\\n",
       "0    0.0                 0.0                 1.0                 0.0   \n",
       "1    0.0                 0.0                 0.0                 0.0   \n",
       "2    0.0                 1.0                 0.0                 0.0   \n",
       "3    0.0                 0.0                 0.0                 0.0   \n",
       "4    0.0                 0.0                 1.0                 0.0   \n",
       "\n",
       "   Garage Type_Detach  Garage Type_None  Garage Type_Other  \n",
       "0                 0.0               0.0                0.0  \n",
       "1                 0.0               1.0                0.0  \n",
       "2                 0.0               0.0                0.0  \n",
       "3                 0.0               1.0                0.0  \n",
       "4                 0.0               0.0                0.0  "
      ]
     },
     "execution_count": 11,
     "metadata": {},
     "output_type": "execute_result"
    }
   ],
   "source": [
    "# Create a OneHotEncoder instance\n",
    "enc = OneHotEncoder(sparse=False)\n",
    "\n",
    "# Fit and transform the OneHotEncoder using the categorical variable list\n",
    "encode_df = pd.DataFrame(enc.fit_transform(house_df[house_cat]))\n",
    "\n",
    "# Add the encoded variable names to the dataframe\n",
    "encode_df.columns = enc.get_feature_names(house_cat)\n",
    "encode_df.head()"
   ]
  },
  {
   "cell_type": "code",
   "execution_count": 12,
   "metadata": {},
   "outputs": [
    {
     "data": {
      "text/html": [
       "<div>\n",
       "<style scoped>\n",
       "    .dataframe tbody tr th:only-of-type {\n",
       "        vertical-align: middle;\n",
       "    }\n",
       "\n",
       "    .dataframe tbody tr th {\n",
       "        vertical-align: top;\n",
       "    }\n",
       "\n",
       "    .dataframe thead th {\n",
       "        text-align: right;\n",
       "    }\n",
       "</style>\n",
       "<table border=\"1\" class=\"dataframe\">\n",
       "  <thead>\n",
       "    <tr style=\"text-align: right;\">\n",
       "      <th></th>\n",
       "      <th>List Price</th>\n",
       "      <th>Sold Price</th>\n",
       "      <th>Br</th>\n",
       "      <th>Additional</th>\n",
       "      <th>Wr</th>\n",
       "      <th>Kit</th>\n",
       "      <th>Contract Date</th>\n",
       "      <th>Sold Date</th>\n",
       "      <th>Type_Att/Row/Tw</th>\n",
       "      <th>Type_Detached</th>\n",
       "      <th>...</th>\n",
       "      <th>Style_Other</th>\n",
       "      <th>Style_Sidesplit</th>\n",
       "      <th>Fam_N</th>\n",
       "      <th>Fam_Y</th>\n",
       "      <th>Garage Type_Attach</th>\n",
       "      <th>Garage Type_Built-</th>\n",
       "      <th>Garage Type_Carpor</th>\n",
       "      <th>Garage Type_Detach</th>\n",
       "      <th>Garage Type_None</th>\n",
       "      <th>Garage Type_Other</th>\n",
       "    </tr>\n",
       "  </thead>\n",
       "  <tbody>\n",
       "    <tr>\n",
       "      <th>0</th>\n",
       "      <td>599000</td>\n",
       "      <td>681000</td>\n",
       "      <td>3</td>\n",
       "      <td>0</td>\n",
       "      <td>2</td>\n",
       "      <td>1</td>\n",
       "      <td>3162021</td>\n",
       "      <td>3232021</td>\n",
       "      <td>1.0</td>\n",
       "      <td>0.0</td>\n",
       "      <td>...</td>\n",
       "      <td>0.0</td>\n",
       "      <td>0.0</td>\n",
       "      <td>1.0</td>\n",
       "      <td>0.0</td>\n",
       "      <td>0.0</td>\n",
       "      <td>1.0</td>\n",
       "      <td>0.0</td>\n",
       "      <td>0.0</td>\n",
       "      <td>0.0</td>\n",
       "      <td>0.0</td>\n",
       "    </tr>\n",
       "    <tr>\n",
       "      <th>1</th>\n",
       "      <td>599900</td>\n",
       "      <td>767000</td>\n",
       "      <td>3</td>\n",
       "      <td>1</td>\n",
       "      <td>2</td>\n",
       "      <td>1</td>\n",
       "      <td>2232021</td>\n",
       "      <td>2262021</td>\n",
       "      <td>0.0</td>\n",
       "      <td>0.0</td>\n",
       "      <td>...</td>\n",
       "      <td>0.0</td>\n",
       "      <td>0.0</td>\n",
       "      <td>1.0</td>\n",
       "      <td>0.0</td>\n",
       "      <td>0.0</td>\n",
       "      <td>0.0</td>\n",
       "      <td>0.0</td>\n",
       "      <td>0.0</td>\n",
       "      <td>1.0</td>\n",
       "      <td>0.0</td>\n",
       "    </tr>\n",
       "    <tr>\n",
       "      <th>2</th>\n",
       "      <td>699000</td>\n",
       "      <td>818500</td>\n",
       "      <td>3</td>\n",
       "      <td>1</td>\n",
       "      <td>3</td>\n",
       "      <td>1</td>\n",
       "      <td>1212021</td>\n",
       "      <td>1262021</td>\n",
       "      <td>1.0</td>\n",
       "      <td>0.0</td>\n",
       "      <td>...</td>\n",
       "      <td>0.0</td>\n",
       "      <td>0.0</td>\n",
       "      <td>1.0</td>\n",
       "      <td>0.0</td>\n",
       "      <td>1.0</td>\n",
       "      <td>0.0</td>\n",
       "      <td>0.0</td>\n",
       "      <td>0.0</td>\n",
       "      <td>0.0</td>\n",
       "      <td>0.0</td>\n",
       "    </tr>\n",
       "    <tr>\n",
       "      <th>3</th>\n",
       "      <td>699500</td>\n",
       "      <td>726000</td>\n",
       "      <td>2</td>\n",
       "      <td>1</td>\n",
       "      <td>2</td>\n",
       "      <td>1</td>\n",
       "      <td>3162021</td>\n",
       "      <td>3172021</td>\n",
       "      <td>0.0</td>\n",
       "      <td>0.0</td>\n",
       "      <td>...</td>\n",
       "      <td>0.0</td>\n",
       "      <td>0.0</td>\n",
       "      <td>1.0</td>\n",
       "      <td>0.0</td>\n",
       "      <td>0.0</td>\n",
       "      <td>0.0</td>\n",
       "      <td>0.0</td>\n",
       "      <td>0.0</td>\n",
       "      <td>1.0</td>\n",
       "      <td>0.0</td>\n",
       "    </tr>\n",
       "    <tr>\n",
       "      <th>4</th>\n",
       "      <td>699900</td>\n",
       "      <td>731000</td>\n",
       "      <td>3</td>\n",
       "      <td>0</td>\n",
       "      <td>3</td>\n",
       "      <td>1</td>\n",
       "      <td>2212021</td>\n",
       "      <td>2262021</td>\n",
       "      <td>1.0</td>\n",
       "      <td>0.0</td>\n",
       "      <td>...</td>\n",
       "      <td>0.0</td>\n",
       "      <td>0.0</td>\n",
       "      <td>1.0</td>\n",
       "      <td>0.0</td>\n",
       "      <td>0.0</td>\n",
       "      <td>1.0</td>\n",
       "      <td>0.0</td>\n",
       "      <td>0.0</td>\n",
       "      <td>0.0</td>\n",
       "      <td>0.0</td>\n",
       "    </tr>\n",
       "  </tbody>\n",
       "</table>\n",
       "<p>5 rows × 28 columns</p>\n",
       "</div>"
      ],
      "text/plain": [
       "   List Price  Sold Price  Br  Additional  Wr  Kit  Contract Date  Sold Date  \\\n",
       "0      599000      681000   3           0   2    1        3162021    3232021   \n",
       "1      599900      767000   3           1   2    1        2232021    2262021   \n",
       "2      699000      818500   3           1   3    1        1212021    1262021   \n",
       "3      699500      726000   2           1   2    1        3162021    3172021   \n",
       "4      699900      731000   3           0   3    1        2212021    2262021   \n",
       "\n",
       "   Type_Att/Row/Tw  Type_Detached  ...  Style_Other  Style_Sidesplit  Fam_N  \\\n",
       "0              1.0            0.0  ...          0.0              0.0    1.0   \n",
       "1              0.0            0.0  ...          0.0              0.0    1.0   \n",
       "2              1.0            0.0  ...          0.0              0.0    1.0   \n",
       "3              0.0            0.0  ...          0.0              0.0    1.0   \n",
       "4              1.0            0.0  ...          0.0              0.0    1.0   \n",
       "\n",
       "   Fam_Y  Garage Type_Attach  Garage Type_Built-  Garage Type_Carpor  \\\n",
       "0    0.0                 0.0                 1.0                 0.0   \n",
       "1    0.0                 0.0                 0.0                 0.0   \n",
       "2    0.0                 1.0                 0.0                 0.0   \n",
       "3    0.0                 0.0                 0.0                 0.0   \n",
       "4    0.0                 0.0                 1.0                 0.0   \n",
       "\n",
       "   Garage Type_Detach  Garage Type_None  Garage Type_Other  \n",
       "0                 0.0               0.0                0.0  \n",
       "1                 0.0               1.0                0.0  \n",
       "2                 0.0               0.0                0.0  \n",
       "3                 0.0               1.0                0.0  \n",
       "4                 0.0               0.0                0.0  \n",
       "\n",
       "[5 rows x 28 columns]"
      ]
     },
     "execution_count": 12,
     "metadata": {},
     "output_type": "execute_result"
    }
   ],
   "source": [
    "# Merge one-hot encoded features and drop the originals\n",
    "house_df = house_df.merge(encode_df,left_index=True, right_index=True)\n",
    "house_df = house_df.drop(house_cat,1)\n",
    "house_df.head()"
   ]
  },
  {
   "cell_type": "code",
   "execution_count": 13,
   "metadata": {},
   "outputs": [],
   "source": [
    "# Creating copy of Dataframe to be used later in other models\n",
    "house1_df = house_df.copy()"
   ]
  },
  {
   "cell_type": "markdown",
   "metadata": {},
   "source": [
    "## Multiple Linear Regression Model \n",
    "Here we creating Multiple Linear Regression machine learning model using LinearRegression() from sklearn. Multiple linear regression is used to estimates the relationship between several independent variables (features) and one dependent variable."
   ]
  },
  {
   "cell_type": "code",
   "execution_count": 14,
   "metadata": {},
   "outputs": [],
   "source": [
    "# Split our preprocessed data into our features and target arrays\n",
    "y = house_df[\"Sold Price\"].values\n",
    "X = house_df.drop(columns=[\"Sold Price\"]).values\n",
    "\n",
    "# Split the preprocessed data into a training and testing dataset\n",
    "X_train, X_test, y_train, y_test = train_test_split(X, y,test_size=0.2,train_size=0.8,random_state=5)"
   ]
  },
  {
   "cell_type": "code",
   "execution_count": 15,
   "metadata": {},
   "outputs": [],
   "source": [
    "# Create a StandardScaler instances\n",
    "scaler = StandardScaler()\n",
    "\n",
    "# Fit the StandardScaler\n",
    "X_scaler = scaler.fit(X_train)\n",
    "\n",
    "# Scale the data\n",
    "X_train_scaled = X_scaler.transform(X_train)\n",
    "X_test_scaled = X_scaler.transform(X_test)"
   ]
  },
  {
   "cell_type": "code",
   "execution_count": 16,
   "metadata": {},
   "outputs": [
    {
     "data": {
      "text/plain": [
       "LinearRegression()"
      ]
     },
     "execution_count": 16,
     "metadata": {},
     "output_type": "execute_result"
    }
   ],
   "source": [
    "# Create a model with scikit-learn and fit the data in the model\n",
    "model = LinearRegression()\n",
    "model.fit(X_train_scaled, y_train)"
   ]
  },
  {
   "cell_type": "code",
   "execution_count": 17,
   "metadata": {},
   "outputs": [],
   "source": [
    "# The model creates predicted y values based on X values\n",
    "y_pred = model.predict(X_test_scaled)"
   ]
  },
  {
   "cell_type": "code",
   "execution_count": 18,
   "metadata": {},
   "outputs": [
    {
     "name": "stdout",
     "output_type": "stream",
     "text": [
      "Coefficient of Determination: 0.9536209250631626\n"
     ]
    }
   ],
   "source": [
    "# Calculating R2 value or Coefficient of Determination\n",
    "test_set_r2 = r2_score(y_test, y_pred)\n",
    "print(\"Coefficient of Determination:\",test_set_r2)"
   ]
  },
  {
   "cell_type": "code",
   "execution_count": 19,
   "metadata": {},
   "outputs": [
    {
     "name": "stdout",
     "output_type": "stream",
     "text": [
      "Mean Absolute Error: 51510.07773405633\n"
     ]
    }
   ],
   "source": [
    "# Calculating MAE or Mean Absolute Error\n",
    "mae = mean_absolute_error(y_test, y_pred)\n",
    "print(\"Mean Absolute Error:\",mae)"
   ]
  },
  {
   "cell_type": "code",
   "execution_count": 20,
   "metadata": {},
   "outputs": [
    {
     "name": "stdout",
     "output_type": "stream",
     "text": [
      "Root Mean Squared Error: 69723.40186718859\n"
     ]
    }
   ],
   "source": [
    "# Calculating RMSE or Root Mean Square Error\n",
    "rmse = (np.sqrt(mean_squared_error(y_test, y_pred)))\n",
    "print(\"Root Mean Squared Error:\",rmse)"
   ]
  },
  {
   "cell_type": "markdown",
   "metadata": {},
   "source": [
    "## XGBRegressor Model\n",
    "We are using XGBRegressor model from XGBoost library (Extreme Gradient Boosting). It is an implementation of gradient boosting trees algorithm. We are comparing the XGBRegressor model with Liner Regression model to see if there is an improvement in performance. "
   ]
  },
  {
   "cell_type": "code",
   "execution_count": 21,
   "metadata": {},
   "outputs": [],
   "source": [
    "# Split our preprocessed data into our features and target arrays\n",
    "y1 = house1_df[\"Sold Price\"].values\n",
    "X1 = house1_df.drop(columns=[\"Sold Price\"]).values\n",
    "\n",
    "# Split the preprocessed data into a training and testing dataset\n",
    "X1_train, X1_test, y1_train, y1_test = train_test_split(X1, y1,test_size=0.2,train_size=0.8,random_state=5)"
   ]
  },
  {
   "cell_type": "code",
   "execution_count": 22,
   "metadata": {},
   "outputs": [],
   "source": [
    "# Create a StandardScaler instances\n",
    "scaler1 = StandardScaler()\n",
    "\n",
    "# Fit the StandardScaler\n",
    "X1_scaler = scaler1.fit(X1_train)\n",
    "\n",
    "# Scale the data\n",
    "X1_train_scaled = X1_scaler.transform(X1_train)\n",
    "X1_test_scaled = X1_scaler.transform(X1_test)"
   ]
  },
  {
   "cell_type": "code",
   "execution_count": 23,
   "metadata": {},
   "outputs": [],
   "source": [
    "import xgboost\n",
    "# Creating an instance of the XGBRegressor\n",
    "model1 = xgboost.XGBRegressor()"
   ]
  },
  {
   "cell_type": "code",
   "execution_count": 24,
   "metadata": {},
   "outputs": [
    {
     "name": "stdout",
     "output_type": "stream",
     "text": [
      "[14:36:58] WARNING: src/objective/regression_obj.cu:152: reg:linear is now deprecated in favor of reg:squarederror.\n"
     ]
    },
    {
     "data": {
      "text/plain": [
       "XGBRegressor()"
      ]
     },
     "execution_count": 24,
     "metadata": {},
     "output_type": "execute_result"
    }
   ],
   "source": [
    "# Fitting the training data to the model\n",
    "model1.fit(X1_train_scaled,y1_train)"
   ]
  },
  {
   "cell_type": "code",
   "execution_count": 25,
   "metadata": {},
   "outputs": [],
   "source": [
    "# Obtaining the predictions for the testing data \n",
    "y1_pred = model1.predict(X1_test_scaled)"
   ]
  },
  {
   "cell_type": "code",
   "execution_count": 26,
   "metadata": {},
   "outputs": [
    {
     "name": "stdout",
     "output_type": "stream",
     "text": [
      "Coefficient of Determination: 0.9213758427869377\n"
     ]
    }
   ],
   "source": [
    "# Calculating R2 value or Coefficient of Determination\n",
    "test_set2_r2 = r2_score(y1_test, y1_pred)\n",
    "print(\"Coefficient of Determination:\",test_set2_r2)"
   ]
  },
  {
   "cell_type": "code",
   "execution_count": 27,
   "metadata": {},
   "outputs": [
    {
     "name": "stdout",
     "output_type": "stream",
     "text": [
      "Mean Absolute Error: 50919.912133891215\n"
     ]
    }
   ],
   "source": [
    "# Calculating MAE or Mean Absolute Error\n",
    "mae1 = mean_absolute_error(y1_test, y1_pred)\n",
    "print(\"Mean Absolute Error:\",mae1)"
   ]
  },
  {
   "cell_type": "code",
   "execution_count": 28,
   "metadata": {},
   "outputs": [
    {
     "name": "stdout",
     "output_type": "stream",
     "text": [
      "Root Mean Squared Error: 90781.11846120015\n"
     ]
    }
   ],
   "source": [
    "# Calculating RMSE or Root Mean Square Error\n",
    "rmse1 = (np.sqrt(mean_squared_error(y1_test, y1_pred)))\n",
    "print(\"Root Mean Squared Error:\",rmse1)"
   ]
  },
  {
   "cell_type": "markdown",
   "metadata": {},
   "source": [
    "#### Comparison: Here we can see that though the MAE has improved (compared with Linear Regression) from 51510.07 to 50919.91, the RMSE has increase from 69723.40 to 90781.11 which is quite significant. Also, R2 vlaue has also gone down from 0.95 to 0.92. Therefore, it is concluded that Linear Regression works better than XGBRegressor for this dataset."
   ]
  },
  {
   "cell_type": "markdown",
   "metadata": {},
   "source": [
    "## Support Vector Regression (SVR)\n",
    "SVR is a regression model in which we try to fit the error in a certain threshold (unlike minimizing the error rate we were doing in the previous cases). SVR can work for linear as well as non-linear problems depending on the kernel we choose. "
   ]
  },
  {
   "cell_type": "code",
   "execution_count": 29,
   "metadata": {},
   "outputs": [],
   "source": [
    "# Split our preprocessed data into our features and target arrays\n",
    "y2 = house1_df[\"Sold Price\"].values\n",
    "X2 = house1_df.drop(columns=[\"Sold Price\"]).values\n",
    "\n",
    "# Split the preprocessed data into a training and testing dataset\n",
    "X2_train, X2_test, y2_train, y2_test = train_test_split(X2, y2,test_size=0.2,train_size=0.8,random_state=5)"
   ]
  },
  {
   "cell_type": "code",
   "execution_count": 30,
   "metadata": {},
   "outputs": [],
   "source": [
    "# Create a StandardScaler instances\n",
    "scaler2 = StandardScaler()\n",
    "\n",
    "# Fit the StandardScaler\n",
    "X2_scaler = scaler2.fit(X1_train)\n",
    "\n",
    "# Scale the data\n",
    "X2_train_scaled = X2_scaler.transform(X2_train)\n",
    "X2_test_scaled = X2_scaler.transform(X2_test)"
   ]
  },
  {
   "cell_type": "code",
   "execution_count": 31,
   "metadata": {},
   "outputs": [],
   "source": [
    "from sklearn.svm import SVR\n",
    "# Creating an instance of the SVM\n",
    "model2 = SVR(kernel='rbf')"
   ]
  },
  {
   "cell_type": "code",
   "execution_count": 32,
   "metadata": {},
   "outputs": [
    {
     "data": {
      "text/plain": [
       "SVR()"
      ]
     },
     "execution_count": 32,
     "metadata": {},
     "output_type": "execute_result"
    }
   ],
   "source": [
    "# Fitting the training data to the model\n",
    "model2.fit(X2_train_scaled, y2_train)"
   ]
  },
  {
   "cell_type": "code",
   "execution_count": 33,
   "metadata": {},
   "outputs": [],
   "source": [
    "y2_pred = model2.predict(X2_test_scaled)"
   ]
  },
  {
   "cell_type": "code",
   "execution_count": 34,
   "metadata": {},
   "outputs": [
    {
     "name": "stdout",
     "output_type": "stream",
     "text": [
      "Coefficient of Determination: -0.10207696260136578\n"
     ]
    }
   ],
   "source": [
    "# Calculating R2 value or Coefficient of Determination\n",
    "test_set3_r2 = r2_score(y2_test, y2_pred)\n",
    "print(\"Coefficient of Determination:\",test_set3_r2)"
   ]
  },
  {
   "cell_type": "code",
   "execution_count": 35,
   "metadata": {},
   "outputs": [
    {
     "name": "stdout",
     "output_type": "stream",
     "text": [
      "Mean Absolute Error: 50919.912133891215\n"
     ]
    }
   ],
   "source": [
    "# Calculating MAE or Mean Absolute Error\n",
    "mae2 = mean_absolute_error(y2_test, y2_pred)\n",
    "print(\"Mean Absolute Error:\",mae1)"
   ]
  },
  {
   "cell_type": "code",
   "execution_count": 36,
   "metadata": {},
   "outputs": [
    {
     "name": "stdout",
     "output_type": "stream",
     "text": [
      "Root Mean Squared Error: 90781.11846120015\n"
     ]
    }
   ],
   "source": [
    "# Calculating RMSE or Root Mean Square Error\n",
    "rmse2 = (np.sqrt(mean_squared_error(y2_test, y2_pred)))\n",
    "print(\"Root Mean Squared Error:\",rmse1)"
   ]
  },
  {
   "source": [
    "#### Comparison: Here we can see that though the MAE has improved (compared with Linear Regression) from 51510.07 to 50919.91, the RMSE has increase from 69723.40 to 90781.11 which is quite significant. Also, R2 vlaue has also deteriorated to -0.10. Therefore, it is concluded that Linear Regression works better than SVR for this dataset."
   ],
   "cell_type": "markdown",
   "metadata": {}
  }
 ],
 "metadata": {
  "kernelspec": {
   "display_name": "mlenv",
   "language": "python",
   "name": "mlenv"
  },
  "language_info": {
   "codemirror_mode": {
    "name": "ipython",
    "version": 3
   },
   "file_extension": ".py",
   "mimetype": "text/x-python",
   "name": "python",
   "nbconvert_exporter": "python",
   "pygments_lexer": "ipython3",
   "version": "3.7.9"
  }
 },
 "nbformat": 4,
 "nbformat_minor": 2
}